{
 "cells": [
  {
   "cell_type": "code",
   "execution_count": 1,
   "id": "73313b9f",
   "metadata": {
    "_cell_guid": "b1076dfc-b9ad-4769-8c92-a6c4dae69d19",
    "_uuid": "8f2839f25d086af736a60e9eeb907d3b93b6e0e5",
    "execution": {
     "iopub.execute_input": "2024-11-25T17:14:08.120187Z",
     "iopub.status.busy": "2024-11-25T17:14:08.119697Z",
     "iopub.status.idle": "2024-11-25T17:14:10.821758Z",
     "shell.execute_reply": "2024-11-25T17:14:10.820393Z"
    },
    "papermill": {
     "duration": 2.712114,
     "end_time": "2024-11-25T17:14:10.824892",
     "exception": false,
     "start_time": "2024-11-25T17:14:08.112778",
     "status": "completed"
    },
    "tags": []
   },
   "outputs": [],
   "source": [
    "# This Python 3 environment comes with many helpful analytics libraries installed\n",
    "# It is defined by the kaggle/python Docker image: https://github.com/kaggle/docker-python\n",
    "# For example, here's several helpful packages to load\n",
    "\n",
    "import numpy as np # linear algebra\n",
    "import pandas as pd # data processing, CSV file I/O (e.g. pd.read_csv)\n",
    "import scipy.stats as stats\n",
    "import matplotlib.pyplot as plt\n",
    "import os\n",
    "import seaborn as sns\n",
    "from scipy.stats import chi2_contingency\n",
    "\n",
    "# Input data files are available in the read-only \"../input/\" directory\n",
    "# For example, running this (by clicking run or pressing Shift+Enter) will list all files under the input directory\n",
    "\n",
    "# You can write up to 20GB to the current directory (/kaggle/working/) that gets preserved as output when you create a version using \"Save & Run All\" \n",
    "# You can also write temporary files to /kaggle/temp/, but they won't be saved outside of the current session"
   ]
  },
  {
   "cell_type": "code",
   "execution_count": 2,
   "id": "6dc23574",
   "metadata": {
    "execution": {
     "iopub.execute_input": "2024-11-25T17:14:10.835088Z",
     "iopub.status.busy": "2024-11-25T17:14:10.834375Z",
     "iopub.status.idle": "2024-11-25T17:14:10.898612Z",
     "shell.execute_reply": "2024-11-25T17:14:10.896966Z"
    },
    "papermill": {
     "duration": 0.072529,
     "end_time": "2024-11-25T17:14:10.901700",
     "exception": false,
     "start_time": "2024-11-25T17:14:10.829171",
     "status": "completed"
    },
    "tags": []
   },
   "outputs": [
    {
     "name": "stdout",
     "output_type": "stream",
     "text": [
      "/kaggle/input/hri-cs592-project/HRI_ End of study questionnaire (Responses) - Form responses 1.csv\n"
     ]
    },
    {
     "data": {
      "text/html": [
       "<div>\n",
       "<style scoped>\n",
       "    .dataframe tbody tr th:only-of-type {\n",
       "        vertical-align: middle;\n",
       "    }\n",
       "\n",
       "    .dataframe tbody tr th {\n",
       "        vertical-align: top;\n",
       "    }\n",
       "\n",
       "    .dataframe thead th {\n",
       "        text-align: right;\n",
       "    }\n",
       "</style>\n",
       "<table border=\"1\" class=\"dataframe\">\n",
       "  <thead>\n",
       "    <tr style=\"text-align: right;\">\n",
       "      <th></th>\n",
       "      <th>Timestamp</th>\n",
       "      <th>Please indicate how you do feel about the following statement. [Misty understands privacy boundaries]</th>\n",
       "      <th>Please indicate how you do feel about the following statement. [Misty is trustworthy]</th>\n",
       "      <th>Please indicate how you do feel about the following statement. [I would feel comfortable sharing sensitive information with Misty]</th>\n",
       "      <th>Please indicate how you do feel about the following statement. [I would NOT share information with Misty]</th>\n",
       "      <th>Please indicate how you do feel about the following statement. [I would feel comfortable having a conversation around Misty]</th>\n",
       "      <th>Please indicate your gender</th>\n",
       "      <th>What prior exposure do you have with robots? You may mention the name of robots you have interacted with.</th>\n",
       "      <th>Please rank the following privacy notices based on how private you perceive each of them to be. [LED indicator]</th>\n",
       "      <th>Please rank the following privacy notices based on how private you perceive each of them to be. [Turning around]</th>\n",
       "      <th>Please rank the following privacy notices based on how private you perceive each of them to be. [Looking at laptop screen]</th>\n",
       "      <th>Notice Style</th>\n",
       "    </tr>\n",
       "  </thead>\n",
       "  <tbody>\n",
       "    <tr>\n",
       "      <th>0</th>\n",
       "      <td>09/11/2024 14:13:59</td>\n",
       "      <td>Strongly agree</td>\n",
       "      <td>Strongly agree</td>\n",
       "      <td>Neither agree or disagree</td>\n",
       "      <td>Neither agree or disagree</td>\n",
       "      <td>Neither agree or disagree</td>\n",
       "      <td>Woman</td>\n",
       "      <td>1</td>\n",
       "      <td>2 (Less private)</td>\n",
       "      <td>1 (Most private)</td>\n",
       "      <td>3 (Least private)</td>\n",
       "      <td>LED Indicator</td>\n",
       "    </tr>\n",
       "    <tr>\n",
       "      <th>1</th>\n",
       "      <td>09/11/2024 14:35:23</td>\n",
       "      <td>Neither agree or disagree</td>\n",
       "      <td>Somewhat agree</td>\n",
       "      <td>Somewhat agree</td>\n",
       "      <td>Neither agree or disagree</td>\n",
       "      <td>Neither agree or disagree</td>\n",
       "      <td>Man</td>\n",
       "      <td>0</td>\n",
       "      <td>2 (Less private)</td>\n",
       "      <td>1 (Most private)</td>\n",
       "      <td>3 (Least private)</td>\n",
       "      <td>Turning Away</td>\n",
       "    </tr>\n",
       "    <tr>\n",
       "      <th>2</th>\n",
       "      <td>13/11/2024 12:40:28</td>\n",
       "      <td>Strongly agree</td>\n",
       "      <td>Agree</td>\n",
       "      <td>Somewhat agree</td>\n",
       "      <td>Neither agree or disagree</td>\n",
       "      <td>Agree</td>\n",
       "      <td>Woman</td>\n",
       "      <td>0</td>\n",
       "      <td>2 (Less private)</td>\n",
       "      <td>1 (Most private)</td>\n",
       "      <td>3 (Least private)</td>\n",
       "      <td>LED Indicator</td>\n",
       "    </tr>\n",
       "    <tr>\n",
       "      <th>3</th>\n",
       "      <td>13/11/2024 13:10:59</td>\n",
       "      <td>Somewhat disagree</td>\n",
       "      <td>Agree</td>\n",
       "      <td>Somewhat agree</td>\n",
       "      <td>Neither agree or disagree</td>\n",
       "      <td>Somewhat agree</td>\n",
       "      <td>Woman</td>\n",
       "      <td>1</td>\n",
       "      <td>2 (Less private)</td>\n",
       "      <td>1 (Most private)</td>\n",
       "      <td>3 (Least private)</td>\n",
       "      <td>Control</td>\n",
       "    </tr>\n",
       "    <tr>\n",
       "      <th>4</th>\n",
       "      <td>13/11/2024 15:25:22</td>\n",
       "      <td>Agree</td>\n",
       "      <td>Somewhat agree</td>\n",
       "      <td>Neither agree or disagree</td>\n",
       "      <td>Somewhat disagree</td>\n",
       "      <td>Agree</td>\n",
       "      <td>Man</td>\n",
       "      <td>1</td>\n",
       "      <td>1 (Most private)</td>\n",
       "      <td>3 (Least private)</td>\n",
       "      <td>2 (Less private)</td>\n",
       "      <td>Turning away</td>\n",
       "    </tr>\n",
       "  </tbody>\n",
       "</table>\n",
       "</div>"
      ],
      "text/plain": [
       "             Timestamp  \\\n",
       "0  09/11/2024 14:13:59   \n",
       "1  09/11/2024 14:35:23   \n",
       "2  13/11/2024 12:40:28   \n",
       "3  13/11/2024 13:10:59   \n",
       "4  13/11/2024 15:25:22   \n",
       "\n",
       "  Please indicate how you do feel about the following statement. [Misty understands privacy boundaries]  \\\n",
       "0                                     Strongly agree                                                      \n",
       "1                          Neither agree or disagree                                                      \n",
       "2                                     Strongly agree                                                      \n",
       "3                                  Somewhat disagree                                                      \n",
       "4                                              Agree                                                      \n",
       "\n",
       "  Please indicate how you do feel about the following statement. [Misty is trustworthy]  \\\n",
       "0                                     Strongly agree                                      \n",
       "1                                     Somewhat agree                                      \n",
       "2                                              Agree                                      \n",
       "3                                              Agree                                      \n",
       "4                                     Somewhat agree                                      \n",
       "\n",
       "  Please indicate how you do feel about the following statement. [I would feel comfortable sharing sensitive information with Misty]  \\\n",
       "0                          Neither agree or disagree                                                                                   \n",
       "1                                     Somewhat agree                                                                                   \n",
       "2                                     Somewhat agree                                                                                   \n",
       "3                                     Somewhat agree                                                                                   \n",
       "4                          Neither agree or disagree                                                                                   \n",
       "\n",
       "  Please indicate how you do feel about the following statement. [I would NOT share information with Misty]  \\\n",
       "0                          Neither agree or disagree                                                          \n",
       "1                          Neither agree or disagree                                                          \n",
       "2                          Neither agree or disagree                                                          \n",
       "3                          Neither agree or disagree                                                          \n",
       "4                                  Somewhat disagree                                                          \n",
       "\n",
       "  Please indicate how you do feel about the following statement. [I would feel comfortable having a conversation around Misty]  \\\n",
       "0                          Neither agree or disagree                                                                             \n",
       "1                          Neither agree or disagree                                                                             \n",
       "2                                              Agree                                                                             \n",
       "3                                     Somewhat agree                                                                             \n",
       "4                                              Agree                                                                             \n",
       "\n",
       "  Please indicate your gender  \\\n",
       "0                       Woman   \n",
       "1                         Man   \n",
       "2                       Woman   \n",
       "3                       Woman   \n",
       "4                         Man   \n",
       "\n",
       "   What prior exposure do you have with robots? You may mention the name of robots you have interacted with.  \\\n",
       "0                                                  1                                                           \n",
       "1                                                  0                                                           \n",
       "2                                                  0                                                           \n",
       "3                                                  1                                                           \n",
       "4                                                  1                                                           \n",
       "\n",
       "  Please rank the following privacy notices based on how private you perceive each of them to be. [LED indicator]  \\\n",
       "0                                   2 (Less private)                                                                \n",
       "1                                   2 (Less private)                                                                \n",
       "2                                   2 (Less private)                                                                \n",
       "3                                   2 (Less private)                                                                \n",
       "4                                   1 (Most private)                                                                \n",
       "\n",
       "  Please rank the following privacy notices based on how private you perceive each of them to be. [Turning around]  \\\n",
       "0                                   1 (Most private)                                                                 \n",
       "1                                   1 (Most private)                                                                 \n",
       "2                                   1 (Most private)                                                                 \n",
       "3                                   1 (Most private)                                                                 \n",
       "4                                  3 (Least private)                                                                 \n",
       "\n",
       "  Please rank the following privacy notices based on how private you perceive each of them to be. [Looking at laptop screen]  \\\n",
       "0                                  3 (Least private)                                                                           \n",
       "1                                  3 (Least private)                                                                           \n",
       "2                                  3 (Least private)                                                                           \n",
       "3                                  3 (Least private)                                                                           \n",
       "4                                   2 (Less private)                                                                           \n",
       "\n",
       "    Notice Style  \n",
       "0  LED Indicator  \n",
       "1   Turning Away  \n",
       "2  LED Indicator  \n",
       "3        Control  \n",
       "4   Turning away  "
      ]
     },
     "execution_count": 2,
     "metadata": {},
     "output_type": "execute_result"
    }
   ],
   "source": [
    "for dirname, _, filenames in os.walk('/kaggle/input'):\n",
    "    for filename in filenames:\n",
    "        print(os.path.join(dirname, filename))\n",
    "        data = pd.read_csv(os.path.join(dirname, filename))\n",
    "data.head()"
   ]
  },
  {
   "cell_type": "code",
   "execution_count": 3,
   "id": "62ee9759",
   "metadata": {
    "execution": {
     "iopub.execute_input": "2024-11-25T17:14:10.912910Z",
     "iopub.status.busy": "2024-11-25T17:14:10.912492Z",
     "iopub.status.idle": "2024-11-25T17:14:10.938223Z",
     "shell.execute_reply": "2024-11-25T17:14:10.936883Z"
    },
    "papermill": {
     "duration": 0.034572,
     "end_time": "2024-11-25T17:14:10.941090",
     "exception": false,
     "start_time": "2024-11-25T17:14:10.906518",
     "status": "completed"
    },
    "tags": []
   },
   "outputs": [],
   "source": [
    "#preprocessing\n",
    "linkert_map = {\n",
    "    \"Strongly agree\":1,\n",
    "    \"Agree\":2,\n",
    "    \"Somewhat agree\":3,\n",
    "    \"Neither agree or disagree\":4,\n",
    "    \"Somewhat disagree\": 5,\n",
    "    \"Disagree\":6,\n",
    "    \"Strongly disagree\":7  \n",
    "}\n",
    "\n",
    "gender_map = {\n",
    "    \"Man\": 1,\n",
    "    \"Woman\": 2,\n",
    "    \"Non-binary\": 3\n",
    "}\n",
    "\n",
    "ranking_map = {\n",
    "    \"1 (Most private)\": 1,\n",
    "    \"2 (Less private)\": 2,\n",
    "    \"3 (Least private)\": 3\n",
    "}\n",
    "\n",
    "notice_style_map = {\n",
    "    \"LED Indicator\":1,\n",
    "    \"Turning Away\":2,\n",
    "    \"Turning away\":2,\n",
    "    \"Control\":3\n",
    "}\n",
    "\n",
    "prior_exposure = {\n",
    "    \"Yes\":1,\n",
    "    \"No\":0\n",
    "}\n",
    "\n",
    "data['Please indicate how you do feel about the following statement. [Misty understands privacy boundaries]'] = data['Please indicate how you do feel about the following statement. [Misty understands privacy boundaries]'].map(linkert_map)\n",
    "data['Please indicate how you do feel about the following statement. [Misty is trustworthy]'] = data['Please indicate how you do feel about the following statement. [Misty is trustworthy]'].map(linkert_map)\n",
    "data['Please indicate how you do feel about the following statement. [I would feel comfortable sharing sensitive information with Misty]'] = data['Please indicate how you do feel about the following statement. [I would feel comfortable sharing sensitive information with Misty]'].map(linkert_map)\n",
    "data['Please indicate how you do feel about the following statement. [I would NOT share information with Misty]'] = data['Please indicate how you do feel about the following statement. [I would NOT share information with Misty]'].map(linkert_map)\n",
    "data['Please indicate how you do feel about the following statement. [I would feel comfortable having a conversation around Misty]'] = data['Please indicate how you do feel about the following statement. [I would feel comfortable having a conversation around Misty]'].map(linkert_map)\n",
    "\n",
    "data['Please indicate your gender'] = data['Please indicate your gender'].map(gender_map)\n",
    "\n",
    "data['Please rank the following privacy notices based on how private you perceive each of them to be. [LED indicator]'] = data['Please rank the following privacy notices based on how private you perceive each of them to be. [LED indicator]'].map(ranking_map)\n",
    "data['Please rank the following privacy notices based on how private you perceive each of them to be. [Turning around]'] = data['Please rank the following privacy notices based on how private you perceive each of them to be. [Turning around]'].map(ranking_map)\n",
    "data['Please rank the following privacy notices based on how private you perceive each of them to be. [Looking at laptop screen]'] = data['Please rank the following privacy notices based on how private you perceive each of them to be. [Looking at laptop screen]'].map(ranking_map)\n",
    "\n",
    "data['Notice Style'] = data['Notice Style'].map(notice_style_map)\n",
    "\n",
    "data.rename(columns={'Please indicate how you do feel about the following statement. [Misty understands privacy boundaries]': 'privacy_boundaries', \n",
    "                     'Please indicate how you do feel about the following statement. [Misty is trustworthy]': 'trustworthy',\n",
    "                    'Please indicate how you do feel about the following statement. [I would feel comfortable sharing sensitive information with Misty]': 'sensitive_info',\n",
    "                    'Please indicate how you do feel about the following statement. [I would NOT share information with Misty]': 'share_info',\n",
    "                    'Please indicate how you do feel about the following statement. [I would feel comfortable having a conversation around Misty]':'conversation',\n",
    "                    'Please indicate your gender': 'gender',\n",
    "                    'Please rank the following privacy notices based on how private you perceive each of them to be. [LED indicator]': 'led',\n",
    "                    'Please rank the following privacy notices based on how private you perceive each of them to be. [Turning around]': 'turn_around',\n",
    "                    'Please rank the following privacy notices based on how private you perceive each of them to be. [Looking at laptop screen]': 'control',\n",
    "                    'Notice Style': 'notice_style',\n",
    "                    'What prior exposure do you have with robots? You may mention the name of robots you have interacted with.': 'prior_exposure'}, inplace=True)"
   ]
  },
  {
   "cell_type": "code",
   "execution_count": 4,
   "id": "fbdedda8",
   "metadata": {
    "execution": {
     "iopub.execute_input": "2024-11-25T17:14:10.951923Z",
     "iopub.status.busy": "2024-11-25T17:14:10.951332Z",
     "iopub.status.idle": "2024-11-25T17:14:10.967930Z",
     "shell.execute_reply": "2024-11-25T17:14:10.966619Z"
    },
    "papermill": {
     "duration": 0.026351,
     "end_time": "2024-11-25T17:14:10.971703",
     "exception": false,
     "start_time": "2024-11-25T17:14:10.945352",
     "status": "completed"
    },
    "tags": []
   },
   "outputs": [
    {
     "data": {
      "text/html": [
       "<div>\n",
       "<style scoped>\n",
       "    .dataframe tbody tr th:only-of-type {\n",
       "        vertical-align: middle;\n",
       "    }\n",
       "\n",
       "    .dataframe tbody tr th {\n",
       "        vertical-align: top;\n",
       "    }\n",
       "\n",
       "    .dataframe thead th {\n",
       "        text-align: right;\n",
       "    }\n",
       "</style>\n",
       "<table border=\"1\" class=\"dataframe\">\n",
       "  <thead>\n",
       "    <tr style=\"text-align: right;\">\n",
       "      <th></th>\n",
       "      <th>Timestamp</th>\n",
       "      <th>privacy_boundaries</th>\n",
       "      <th>trustworthy</th>\n",
       "      <th>sensitive_info</th>\n",
       "      <th>share_info</th>\n",
       "      <th>conversation</th>\n",
       "      <th>gender</th>\n",
       "      <th>prior_exposure</th>\n",
       "      <th>led</th>\n",
       "      <th>turn_around</th>\n",
       "      <th>control</th>\n",
       "      <th>notice_style</th>\n",
       "    </tr>\n",
       "  </thead>\n",
       "  <tbody>\n",
       "    <tr>\n",
       "      <th>0</th>\n",
       "      <td>09/11/2024 14:13:59</td>\n",
       "      <td>1</td>\n",
       "      <td>1</td>\n",
       "      <td>4</td>\n",
       "      <td>4</td>\n",
       "      <td>4</td>\n",
       "      <td>2</td>\n",
       "      <td>1</td>\n",
       "      <td>2</td>\n",
       "      <td>1</td>\n",
       "      <td>3</td>\n",
       "      <td>1</td>\n",
       "    </tr>\n",
       "    <tr>\n",
       "      <th>1</th>\n",
       "      <td>09/11/2024 14:35:23</td>\n",
       "      <td>4</td>\n",
       "      <td>3</td>\n",
       "      <td>3</td>\n",
       "      <td>4</td>\n",
       "      <td>4</td>\n",
       "      <td>1</td>\n",
       "      <td>0</td>\n",
       "      <td>2</td>\n",
       "      <td>1</td>\n",
       "      <td>3</td>\n",
       "      <td>2</td>\n",
       "    </tr>\n",
       "    <tr>\n",
       "      <th>2</th>\n",
       "      <td>13/11/2024 12:40:28</td>\n",
       "      <td>1</td>\n",
       "      <td>2</td>\n",
       "      <td>3</td>\n",
       "      <td>4</td>\n",
       "      <td>2</td>\n",
       "      <td>2</td>\n",
       "      <td>0</td>\n",
       "      <td>2</td>\n",
       "      <td>1</td>\n",
       "      <td>3</td>\n",
       "      <td>1</td>\n",
       "    </tr>\n",
       "    <tr>\n",
       "      <th>3</th>\n",
       "      <td>13/11/2024 13:10:59</td>\n",
       "      <td>5</td>\n",
       "      <td>2</td>\n",
       "      <td>3</td>\n",
       "      <td>4</td>\n",
       "      <td>3</td>\n",
       "      <td>2</td>\n",
       "      <td>1</td>\n",
       "      <td>2</td>\n",
       "      <td>1</td>\n",
       "      <td>3</td>\n",
       "      <td>3</td>\n",
       "    </tr>\n",
       "    <tr>\n",
       "      <th>4</th>\n",
       "      <td>13/11/2024 15:25:22</td>\n",
       "      <td>2</td>\n",
       "      <td>3</td>\n",
       "      <td>4</td>\n",
       "      <td>5</td>\n",
       "      <td>2</td>\n",
       "      <td>1</td>\n",
       "      <td>1</td>\n",
       "      <td>1</td>\n",
       "      <td>3</td>\n",
       "      <td>2</td>\n",
       "      <td>2</td>\n",
       "    </tr>\n",
       "  </tbody>\n",
       "</table>\n",
       "</div>"
      ],
      "text/plain": [
       "             Timestamp  privacy_boundaries  trustworthy  sensitive_info  \\\n",
       "0  09/11/2024 14:13:59                   1            1               4   \n",
       "1  09/11/2024 14:35:23                   4            3               3   \n",
       "2  13/11/2024 12:40:28                   1            2               3   \n",
       "3  13/11/2024 13:10:59                   5            2               3   \n",
       "4  13/11/2024 15:25:22                   2            3               4   \n",
       "\n",
       "   share_info  conversation  gender  prior_exposure  led  turn_around  \\\n",
       "0           4             4       2               1    2            1   \n",
       "1           4             4       1               0    2            1   \n",
       "2           4             2       2               0    2            1   \n",
       "3           4             3       2               1    2            1   \n",
       "4           5             2       1               1    1            3   \n",
       "\n",
       "   control  notice_style  \n",
       "0        3             1  \n",
       "1        3             2  \n",
       "2        3             1  \n",
       "3        3             3  \n",
       "4        2             2  "
      ]
     },
     "execution_count": 4,
     "metadata": {},
     "output_type": "execute_result"
    }
   ],
   "source": [
    "data.iloc[1: , :]\n",
    "data.head()"
   ]
  },
  {
   "cell_type": "code",
   "execution_count": 5,
   "id": "2d418a6a",
   "metadata": {
    "execution": {
     "iopub.execute_input": "2024-11-25T17:14:10.984769Z",
     "iopub.status.busy": "2024-11-25T17:14:10.984344Z",
     "iopub.status.idle": "2024-11-25T17:14:11.049610Z",
     "shell.execute_reply": "2024-11-25T17:14:11.047476Z"
    },
    "papermill": {
     "duration": 0.075883,
     "end_time": "2024-11-25T17:14:11.053411",
     "exception": false,
     "start_time": "2024-11-25T17:14:10.977528",
     "status": "completed"
    },
    "tags": []
   },
   "outputs": [
    {
     "name": "stdout",
     "output_type": "stream",
     "text": [
      "T-statistic for privacy_boundaries: 0.7254762501100116, P-value: 0.49351414969984064\n",
      "T-statistic for trustworthy: 1.8650096164806278, P-value: 0.09315880942486207\n",
      "T-statistic for sensitive_info: 2.497421350525749, P-value: 0.03924400615576969\n",
      "T-statistic for share_info: 0.18318582636182823, P-value: 0.8594786863511377\n",
      "T-statistic for conversation: 1.6712580435934674, P-value: 0.14146358696772432\n",
      "T-statistic for led: -1.0000000000000004, P-value: 0.36321746764912244\n",
      "T-statistic for turn_around: 0.9999999999999997, P-value: 0.3632174676491228\n",
      "T-statistic for control: -0.9999999999999993, P-value: 0.363217467649123\n"
     ]
    },
    {
     "name": "stderr",
     "output_type": "stream",
     "text": [
      "/opt/conda/lib/python3.10/site-packages/scipy/stats/_axis_nan_policy.py:573: RuntimeWarning: Precision loss occurred in moment calculation due to catastrophic cancellation. This occurs when the data are nearly identical. Results may be unreliable.\n",
      "  res = hypotest_fun_out(*samples, **kwds)\n"
     ]
    }
   ],
   "source": [
    "def perform_t_test_gender(col_name):\n",
    "    group_men = data[data['gender'] == 1][col_name]\n",
    "    group_women = data[data['gender'] == 2][col_name]\n",
    "    t_stat, p_value = stats.ttest_ind(group_men.dropna(), group_women.dropna(), equal_var=False)\n",
    "    print(f\"T-statistic for {col_name}: {t_stat}, P-value: {p_value}\")\n",
    "\n",
    "# H3: Gender\n",
    "perform_t_test_gender('privacy_boundaries')\n",
    "perform_t_test_gender('trustworthy')\n",
    "perform_t_test_gender('sensitive_info')\n",
    "perform_t_test_gender('share_info')\n",
    "perform_t_test_gender('conversation')\n",
    "\n",
    "perform_t_test_gender('led')\n",
    "perform_t_test_gender('turn_around')\n",
    "perform_t_test_gender('control')"
   ]
  },
  {
   "cell_type": "code",
   "execution_count": 6,
   "id": "ffe08454",
   "metadata": {
    "execution": {
     "iopub.execute_input": "2024-11-25T17:14:11.066003Z",
     "iopub.status.busy": "2024-11-25T17:14:11.065488Z",
     "iopub.status.idle": "2024-11-25T17:14:11.392495Z",
     "shell.execute_reply": "2024-11-25T17:14:11.390953Z"
    },
    "papermill": {
     "duration": 0.337146,
     "end_time": "2024-11-25T17:14:11.395615",
     "exception": false,
     "start_time": "2024-11-25T17:14:11.058469",
     "status": "completed"
    },
    "tags": []
   },
   "outputs": [
    {
     "data": {
      "image/png": "[encoded data removed]",
      "text/plain": [
       "<Figure size 800x600 with 1 Axes>"
      ]
     },
     "metadata": {},
     "output_type": "display_data"
    }
   ],
   "source": [
    "# Create a boxplot\n",
    "plt.figure(figsize=(8, 6))\n",
    "sns.boxplot(x='gender', y='sensitive_info', data=data, palette='pastel')\n",
    "plt.xticks(ticks=[0,1,2], labels=['Male', 'Female', \"Non-binary\"])\n",
    "# Add title and labels\n",
    "plt.title(\"Gender vs Comfort Sharing Sensitive Information\", fontsize=14)\n",
    "plt.xlabel(\"Gender\", fontsize=12)\n",
    "plt.ylabel(\"Comfort Level (1-7)\", fontsize=12)\n",
    "plt.xticks(fontsize=10)\n",
    "plt.yticks(fontsize=10)\n",
    "\n",
    "# Show the plot\n",
    "plt.show()"
   ]
  },
  {
   "cell_type": "code",
   "execution_count": 7,
   "id": "a0091284",
   "metadata": {
    "execution": {
     "iopub.execute_input": "2024-11-25T17:14:11.408683Z",
     "iopub.status.busy": "2024-11-25T17:14:11.408304Z",
     "iopub.status.idle": "2024-11-25T17:14:11.456927Z",
     "shell.execute_reply": "2024-11-25T17:14:11.455422Z"
    },
    "papermill": {
     "duration": 0.058812,
     "end_time": "2024-11-25T17:14:11.459988",
     "exception": false,
     "start_time": "2024-11-25T17:14:11.401176",
     "status": "completed"
    },
    "tags": []
   },
   "outputs": [
    {
     "name": "stdout",
     "output_type": "stream",
     "text": [
      "F-statistic for privacy_boundaries: 4.488714877936436, P-value: 0.04062683937937654\n",
      "F-statistic for trustworthy: 1.6782092505565174, P-value: 0.23526098312815483\n",
      "F-statistic for sensitive_info: 0.06566604127579737, P-value: 0.9368439273347833\n",
      "F-statistic for share_info: 2.896528250510551, P-value: 0.10178154863407997\n",
      "F-statistic for conversation: 0.017174976579577395, P-value: 0.9830006024422597\n",
      "F-statistic for prior_exposure: 0.6980056980056979, P-value: 0.5202781959717775\n",
      "F-statistic for led: 0.0, P-value: 1.0\n",
      "F-statistic for turn_around: 1.1538461538461535, P-value: 0.354092597961426\n",
      "F-statistic for control: 3.461538461538462, P-value: 0.07204491900081343\n"
     ]
    }
   ],
   "source": [
    "def perform_t_test_notice_style(col_name):\n",
    "    group_led = data[data['notice_style'] == 1][col_name]\n",
    "    group_turn = data[data['notice_style'] == 2][col_name]\n",
    "    group_control = data[data['notice_style'] == 3][col_name]\n",
    "    f_stat, p_value = stats.f_oneway(group_led.dropna(), group_turn.dropna(), group_control.dropna())\n",
    "    print(f\"F-statistic for {col_name}: {f_stat}, P-value: {p_value}\")\n",
    "\n",
    "# H3: Gender\n",
    "perform_t_test_notice_style('privacy_boundaries')\n",
    "perform_t_test_notice_style('trustworthy')\n",
    "perform_t_test_notice_style('sensitive_info')\n",
    "perform_t_test_notice_style('share_info')\n",
    "perform_t_test_notice_style('conversation')\n",
    "perform_t_test_notice_style('prior_exposure')\n",
    "perform_t_test_notice_style('led')\n",
    "perform_t_test_notice_style('turn_around')\n",
    "perform_t_test_notice_style('control')"
   ]
  },
  {
   "cell_type": "code",
   "execution_count": 8,
   "id": "1c58d1c6",
   "metadata": {
    "execution": {
     "iopub.execute_input": "2024-11-25T17:14:11.473754Z",
     "iopub.status.busy": "2024-11-25T17:14:11.473294Z",
     "iopub.status.idle": "2024-11-25T17:14:11.716377Z",
     "shell.execute_reply": "2024-11-25T17:14:11.714602Z"
    },
    "papermill": {
     "duration": 0.253494,
     "end_time": "2024-11-25T17:14:11.719379",
     "exception": false,
     "start_time": "2024-11-25T17:14:11.465885",
     "status": "completed"
    },
    "tags": []
   },
   "outputs": [
    {
     "data": {
      "image/png": "[encoded data removed]",
      "text/plain": [
       "<Figure size 800x600 with 1 Axes>"
      ]
     },
     "metadata": {},
     "output_type": "display_data"
    }
   ],
   "source": [
    "# Create a boxplot\n",
    "plt.figure(figsize=(8, 6))\n",
    "sns.boxplot(x='notice_style', y='privacy_boundaries', data=data, palette='pastel')\n",
    "plt.xticks(ticks=[0,1,2], labels=['LED Indicator', 'Turning Away', \"Control\"])\n",
    "# Add title and labels\n",
    "plt.title(\"Notice Style vs privacy_boundaries\", fontsize=14)\n",
    "plt.xlabel(\"Notice Style\", fontsize=12)\n",
    "plt.ylabel(\"Comfort Level (1-7)\", fontsize=12)\n",
    "plt.xticks(fontsize=10)\n",
    "plt.yticks(fontsize=10)\n",
    "\n",
    "# Show the plot\n",
    "plt.show()"
   ]
  },
  {
   "cell_type": "code",
   "execution_count": 9,
   "id": "3a6f6989",
   "metadata": {
    "execution": {
     "iopub.execute_input": "2024-11-25T17:14:11.735688Z",
     "iopub.status.busy": "2024-11-25T17:14:11.734788Z",
     "iopub.status.idle": "2024-11-25T17:14:12.000259Z",
     "shell.execute_reply": "2024-11-25T17:14:11.998828Z"
    },
    "papermill": {
     "duration": 0.27727,
     "end_time": "2024-11-25T17:14:12.003209",
     "exception": false,
     "start_time": "2024-11-25T17:14:11.725939",
     "status": "completed"
    },
    "tags": []
   },
   "outputs": [
    {
     "data": {
      "image/png": "[encoded data removed]",
      "text/plain": [
       "<Figure size 800x600 with 1 Axes>"
      ]
     },
     "metadata": {},
     "output_type": "display_data"
    }
   ],
   "source": [
    "# Create a boxplot\n",
    "plt.figure(figsize=(8, 6))\n",
    "sns.boxplot(x='notice_style', y='trustworthy', data=data, palette='pastel')\n",
    "plt.xticks(ticks=[0,1,2], labels=['LED Indicator', 'Turning Away', \"Control\"])\n",
    "# Add title and labels\n",
    "plt.title(\"Notice Style vs trustworthy\", fontsize=14)\n",
    "plt.xlabel(\"Notice Style\", fontsize=12)\n",
    "plt.ylabel(\"Comfort Level (1-7)\", fontsize=12)\n",
    "plt.xticks(fontsize=10)\n",
    "plt.yticks(fontsize=10)\n",
    "\n",
    "# Show the plot\n",
    "plt.show()"
   ]
  },
  {
   "cell_type": "code",
   "execution_count": 10,
   "id": "a0146540",
   "metadata": {
    "execution": {
     "iopub.execute_input": "2024-11-25T17:14:12.018221Z",
     "iopub.status.busy": "2024-11-25T17:14:12.017814Z",
     "iopub.status.idle": "2024-11-25T17:14:12.289344Z",
     "shell.execute_reply": "2024-11-25T17:14:12.288310Z"
    },
    "papermill": {
     "duration": 0.281748,
     "end_time": "2024-11-25T17:14:12.291778",
     "exception": false,
     "start_time": "2024-11-25T17:14:12.010030",
     "status": "completed"
    },
    "tags": []
   },
   "outputs": [
    {
     "data": {
      "image/png": "[encoded data removed]",
      "text/plain": [
       "<Figure size 800x600 with 1 Axes>"
      ]
     },
     "metadata": {},
     "output_type": "display_data"
    }
   ],
   "source": [
    "# Create a boxplot\n",
    "plt.figure(figsize=(8, 6))\n",
    "sns.boxplot(x='notice_style', y='prior_exposure', data=data, palette='pastel')\n",
    "plt.xticks(ticks=[0,1,2], labels=['LED Indicator', 'Turning Away', \"Control\"])\n",
    "# Add title and labels\n",
    "plt.title(\"Notice Style vs trustworthy\", fontsize=14)\n",
    "plt.xlabel(\"Notice Style\", fontsize=12)\n",
    "plt.ylabel(\"Comfort Level (1-7)\", fontsize=12)\n",
    "plt.xticks(fontsize=10)\n",
    "plt.yticks(fontsize=10)\n",
    "\n",
    "# Show the plot\n",
    "plt.show()"
   ]
  },
  {
   "cell_type": "code",
   "execution_count": 11,
   "id": "7eb3e304",
   "metadata": {
    "execution": {
     "iopub.execute_input": "2024-11-25T17:14:12.307599Z",
     "iopub.status.busy": "2024-11-25T17:14:12.307208Z",
     "iopub.status.idle": "2024-11-25T17:14:12.352563Z",
     "shell.execute_reply": "2024-11-25T17:14:12.351532Z"
    },
    "papermill": {
     "duration": 0.057676,
     "end_time": "2024-11-25T17:14:12.356412",
     "exception": false,
     "start_time": "2024-11-25T17:14:12.298736",
     "status": "completed"
    },
    "tags": []
   },
   "outputs": [
    {
     "name": "stdout",
     "output_type": "stream",
     "text": [
      "T-statistic for privacy_boundaries: -0.4504426164614507, P-value: 0.6614608843770635\n",
      "T-statistic for trustworthy: -1.017173550743708, P-value: 0.3419147219307781\n",
      "T-statistic for sensitive_info: -1.0108896132708942, P-value: 0.352238509142989\n",
      "T-statistic for share_info: 0.16834512458535844, P-value: 0.8726418724365604\n",
      "T-statistic for conversation: -1.5920595043359824, P-value: 0.15762244497424696\n",
      "T-statistic for led: 0.0, P-value: 1.0\n",
      "T-statistic for turn_around: 1.0, P-value: 0.3506166628202075\n",
      "T-statistic for control: -1.5275252316519468, P-value: 0.17047066078705375\n"
     ]
    },
    {
     "name": "stderr",
     "output_type": "stream",
     "text": [
      "/opt/conda/lib/python3.10/site-packages/scipy/stats/_axis_nan_policy.py:573: RuntimeWarning: Precision loss occurred in moment calculation due to catastrophic cancellation. This occurs when the data are nearly identical. Results may be unreliable.\n",
      "  res = hypotest_fun_out(*samples, **kwds)\n"
     ]
    }
   ],
   "source": [
    "def perform_t_test_prior(col_name):\n",
    "    group_exp = data[data['prior_exposure'] == 1][col_name]\n",
    "    group_no_exp = data[data['prior_exposure'] == 0][col_name]\n",
    "    t_stat, p_value = stats.ttest_ind(group_exp.dropna(), group_no_exp.dropna(), equal_var=False)\n",
    "    print(f\"T-statistic for {col_name}: {t_stat}, P-value: {p_value}\")\n",
    "\n",
    "# H3: Gender\n",
    "perform_t_test_prior('privacy_boundaries')\n",
    "perform_t_test_prior('trustworthy')\n",
    "perform_t_test_prior('sensitive_info')\n",
    "perform_t_test_prior('share_info')\n",
    "perform_t_test_prior('conversation')\n",
    "\n",
    "perform_t_test_prior('led')\n",
    "perform_t_test_prior('turn_around')\n",
    "perform_t_test_prior('control')"
   ]
  },
  {
   "cell_type": "code",
   "execution_count": 12,
   "id": "ce92fd90",
   "metadata": {
    "execution": {
     "iopub.execute_input": "2024-11-25T17:14:12.372084Z",
     "iopub.status.busy": "2024-11-25T17:14:12.371649Z",
     "iopub.status.idle": "2024-11-25T17:14:12.619745Z",
     "shell.execute_reply": "2024-11-25T17:14:12.618301Z"
    },
    "papermill": {
     "duration": 0.259334,
     "end_time": "2024-11-25T17:14:12.622593",
     "exception": false,
     "start_time": "2024-11-25T17:14:12.363259",
     "status": "completed"
    },
    "tags": []
   },
   "outputs": [
    {
     "data": {
      "image/png": "[encoded data removed]",
      "text/plain": [
       "<Figure size 800x600 with 1 Axes>"
      ]
     },
     "metadata": {},
     "output_type": "display_data"
    }
   ],
   "source": [
    "# Create a boxplot\n",
    "plt.figure(figsize=(8, 6))\n",
    "sns.boxplot(x='prior_exposure', y='conversation', data=data, palette='pastel')\n",
    "plt.xticks(ticks=[0,1], labels=['Yes', 'No'])\n",
    "# Add title and labels\n",
    "plt.title(\"prior_exposure vs \", fontsize=14)\n",
    "plt.xlabel(\"prior_exposure\", fontsize=12)\n",
    "plt.ylabel(\"Comfort Level (1-7)\", fontsize=12)\n",
    "plt.xticks(fontsize=10)\n",
    "plt.yticks(fontsize=10)\n",
    "\n",
    "# Show the plot\n",
    "plt.show()"
   ]
  },
  {
   "cell_type": "code",
   "execution_count": 13,
   "id": "a9b1e971",
   "metadata": {
    "execution": {
     "iopub.execute_input": "2024-11-25T17:14:12.640191Z",
     "iopub.status.busy": "2024-11-25T17:14:12.639784Z",
     "iopub.status.idle": "2024-11-25T17:14:12.666939Z",
     "shell.execute_reply": "2024-11-25T17:14:12.665629Z"
    },
    "papermill": {
     "duration": 0.039677,
     "end_time": "2024-11-25T17:14:12.670262",
     "exception": false,
     "start_time": "2024-11-25T17:14:12.630585",
     "status": "completed"
    },
    "tags": []
   },
   "outputs": [
    {
     "name": "stdout",
     "output_type": "stream",
     "text": [
      "\n",
      "Chi-squared Statistic: 8.233333333333333\n",
      "P-value: 0.6060568749256816\n",
      "Degrees of Freedom: 10\n",
      "\n",
      "Expected Frequencies:\n",
      "[[0.38461538 1.15384615 1.53846154 0.76923077 0.38461538 0.76923077]\n",
      " [0.30769231 0.92307692 1.23076923 0.61538462 0.30769231 0.61538462]\n",
      " [0.30769231 0.92307692 1.23076923 0.61538462 0.30769231 0.61538462]]\n"
     ]
    }
   ],
   "source": [
    "# Create a contingency table\n",
    "contingency_table = pd.crosstab(data['notice_style'], data['sensitive_info'])\n",
    "\n",
    "# Perform the Chi-squared test\n",
    "chi2, p, dof, expected = chi2_contingency(contingency_table)\n",
    "\n",
    "# Print results\n",
    "# print(\"Contingency Table:\")\n",
    "# print(contingency_table)\n",
    "print(\"\\nChi-squared Statistic:\", chi2)\n",
    "print(\"P-value:\", p)\n",
    "print(\"Degrees of Freedom:\", dof)\n",
    "print(\"\\nExpected Frequencies:\")\n",
    "print(expected)"
   ]
  },
  {
   "cell_type": "code",
   "execution_count": null,
   "id": "5222d6c4",
   "metadata": {
    "papermill": {
     "duration": 0.007597,
     "end_time": "2024-11-25T17:14:12.687573",
     "exception": false,
     "start_time": "2024-11-25T17:14:12.679976",
     "status": "completed"
    },
    "tags": []
   },
   "outputs": [],
   "source": []
  }
 ],
 "metadata": {
  "kaggle": {
   "accelerator": "none",
   "dataSources": [
    {
     "datasetId": 6115876,
     "sourceId": 9964355,
     "sourceType": "datasetVersion"
    }
   ],
   "dockerImageVersionId": 30786,
   "isGpuEnabled": false,
   "isInternetEnabled": true,
   "language": "python",
   "sourceType": "notebook"
  },
  "kernelspec": {
   "display_name": "Python 3",
   "language": "python",
   "name": "python3"
  },
  "language_info": {
   "codemirror_mode": {
    "name": "ipython",
    "version": 3
   },
   "file_extension": ".py",
   "mimetype": "text/x-python",
   "name": "python",
   "nbconvert_exporter": "python",
   "pygments_lexer": "ipython3",
   "version": "3.10.14"
  },
  "papermill": {
   "default_parameters": {},
   "duration": 8.061529,
   "end_time": "2024-11-25T17:14:13.319868",
   "environment_variables": {},
   "exception": null,
   "input_path": "__notebook__.ipynb",
   "output_path": "__notebook__.ipynb",
   "parameters": {},
   "start_time": "2024-11-25T17:14:05.258339",
   "version": "2.6.0"
  }
 },
 "nbformat": 4,
 "nbformat_minor": 5
}
